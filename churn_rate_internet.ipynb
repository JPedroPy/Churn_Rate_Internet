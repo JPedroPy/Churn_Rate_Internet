{
 "cells": [
  {
   "cell_type": "code",
   "execution_count": null,
   "metadata": {},
   "outputs": [],
   "source": [
    "import pandas as pd\n",
    "import plotly.express as px\n",
    "\n",
    "#Importing dataset\n",
    "internet_df = pd.read_csv('cancelations.csv')\n",
    "internet_df.info()"
   ]
  },
  {
   "cell_type": "code",
   "execution_count": null,
   "metadata": {},
   "outputs": [],
   "source": [
    "#Checking if there's NaN values\n",
    "internet_df.isna().sum()"
   ]
  },
  {
   "cell_type": "code",
   "execution_count": 59,
   "metadata": {},
   "outputs": [],
   "source": [
    "#Removing lines without information and irrelevant columns\n",
    "internet_df = internet_df.dropna()\n",
    "internet_df = internet_df.drop('CustomerID', axis=1)"
   ]
  },
  {
   "cell_type": "code",
   "execution_count": null,
   "metadata": {},
   "outputs": [],
   "source": [
    "#Checking\n",
    "internet_df.info()"
   ]
  },
  {
   "cell_type": "code",
   "execution_count": null,
   "metadata": {},
   "outputs": [],
   "source": [
    "#Checking how cancellations are (study issue)\n",
    "qtd_cancel = internet_df['cancelou'].value_counts(normalize = True)\n",
    "print(qtd_cancel)"
   ]
  },
  {
   "cell_type": "code",
   "execution_count": null,
   "metadata": {},
   "outputs": [],
   "source": [
    "#Generating graphs to assess cancellation behavior in relation to other variables\n",
    "\n",
    "colors = {1.0:'red', 0.0:'green'}\n",
    "for coluna in internet_df.columns:\n",
    "    graphic = px.histogram(internet_df, x = coluna, color = 'cancelou', color_discrete_map = colors)\n",
    "    graphic.show()"
   ]
  },
  {
   "cell_type": "code",
   "execution_count": null,
   "metadata": {},
   "outputs": [],
   "source": [
    "#Applying improvements\n",
    "internet_df = internet_df[internet_df['duracao_contrato'] != 'Monthly']\n",
    "internet_df = internet_df[internet_df['idade'] <= 50]\n",
    "internet_df = internet_df[internet_df['ligacoes_callcenter'] <= 5]\n",
    "internet_df = internet_df[internet_df['dias_atraso'] <= 20]\n",
    "internet_df = internet_df[internet_df['total_gasto'] >= 497.5]\n",
    "qtd_cancel = internet_df['cancelou'].value_counts(normalize = True)\n",
    "print(qtd_cancel)"
   ]
  }
 ],
 "metadata": {
  "kernelspec": {
   "display_name": "Python 3",
   "language": "python",
   "name": "python3"
  },
  "language_info": {
   "codemirror_mode": {
    "name": "ipython",
    "version": 3
   },
   "file_extension": ".py",
   "mimetype": "text/x-python",
   "name": "python",
   "nbconvert_exporter": "python",
   "pygments_lexer": "ipython3",
   "version": "3.11.4"
  },
  "orig_nbformat": 4
 },
 "nbformat": 4,
 "nbformat_minor": 2
}
